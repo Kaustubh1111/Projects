{
 "cells": [
  {
   "cell_type": "code",
   "execution_count": 2,
   "metadata": {},
   "outputs": [],
   "source": [
    "import requests\n",
    "url = 'https://api.textlocal.in/'\n",
    "params = {'username':'yourusername@mailid.com',\n",
    "          'apiKey':'yourGenerated-APIKey'\n",
    "}\n",
    "\n",
    "def check_balance(url):\n",
    "    url = url+'balance'\n",
    "    response = requests.get(url,params=params)\n",
    "    return response.json()\n",
    "def send_sms(url,params):\n",
    "    url=url+'send'\n",
    "    #Phone numbers inside braces {} in commas\n",
    "    numbers={'9911111xxxx'}\n",
    "    message = {'Hi, This is a Sample message'}\n",
    "    params['numbers'] = numbers\n",
    "    params['message'] = message\n",
    "    response = requests.post(url,params=params)\n",
    "    return response.json()\n",
    "\n",
    "def inbox(url):\n",
    "    url = url+'get_inboxes'\n",
    "    response = requests.get(url,params=params)\n",
    "    return response.json()"
   ]
  }
 ],
 "metadata": {
  "interpreter": {
   "hash": "2db524e06e9f5f4ffedc911c917cb75e12dbc923643829bf417064a77eb14d37"
  },
  "kernelspec": {
   "display_name": "Python 3.8.5 32-bit",
   "language": "python",
   "name": "python3"
  },
  "language_info": {
   "codemirror_mode": {
    "name": "ipython",
    "version": 3
   },
   "file_extension": ".py",
   "mimetype": "text/x-python",
   "name": "python",
   "nbconvert_exporter": "python",
   "pygments_lexer": "ipython3",
   "version": "3.8.5"
  },
  "orig_nbformat": 4
 },
 "nbformat": 4,
 "nbformat_minor": 2
}
